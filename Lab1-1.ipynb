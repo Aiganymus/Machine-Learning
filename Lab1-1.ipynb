{
 "cells": [
  {
   "cell_type": "code",
   "execution_count": 2,
   "metadata": {},
   "outputs": [],
   "source": [
    "import re\n",
    "\n",
    "filename = \"sentences.txt\"\n",
    "file = open(filename, \"r\")\n",
    "words = {}\n",
    "d = 0 #number of unique words in file (254)\n",
    "cnt = 0 #number of sentences (22)\n",
    "for line in file:\n",
    "    cnt += 1\n",
    "    line = re.split('[^a-z]', line.lower()) \n",
    "    for word in line:\n",
    "        if(word != ''):\n",
    "            if word not in words:\n",
    "                words[word] = d\n",
    "                d += 1\n",
    "matrix = [[0 for x in range(d)] for y in range(cnt)] #create matrix 22x254\n",
    "i = 0\n",
    "file = open(filename, \"r\")\n",
    "for line in file:\n",
    "    line = re.split('[^a-z]', line.lower()) \n",
    "    for word in line:\n",
    "        if word in words:\n",
    "            matrix[i][words[word]] += 1\n",
    "    i += 1"
   ]
  },
  {
   "cell_type": "code",
   "execution_count": 3,
   "metadata": {},
   "outputs": [
    {
     "name": "stdout",
     "output_type": "stream",
     "text": [
      "6 4\n"
     ]
    }
   ],
   "source": [
    "from math import sqrt\n",
    "def cosine_distance(first, second):\n",
    "    product = sum1 = sum2 = 0\n",
    "    for i in range(0, len(first)):\n",
    "        product += first[i]*second[i]\n",
    "        sum1 += first[i]**2\n",
    "        sum2 += second[i]**2\n",
    "    return 1-product/sqrt(sum1*sum2)\n",
    "\n",
    "minn = second = 2\n",
    "ind1 = ind2 = 0\n",
    "for j in range(1, i):\n",
    "    num = cosine_distance(matrix[0], matrix[j])\n",
    "    if num < minn:\n",
    "        ind2 = ind1\n",
    "        ind1 = j\n",
    "        second = minn\n",
    "        minn = num\n",
    "    elif num != minn and num < second: \n",
    "        second = num\n",
    "        ind2 = j\n",
    "print(ind1, ind2)"
   ]
  },
  {
   "cell_type": "code",
   "execution_count": null,
   "metadata": {},
   "outputs": [],
   "source": []
  },
  {
   "cell_type": "code",
   "execution_count": null,
   "metadata": {},
   "outputs": [],
   "source": []
  },
  {
   "cell_type": "code",
   "execution_count": null,
   "metadata": {},
   "outputs": [],
   "source": []
  },
  {
   "cell_type": "code",
   "execution_count": null,
   "metadata": {},
   "outputs": [],
   "source": []
  }
 ],
 "metadata": {
  "kernelspec": {
   "display_name": "Python 3",
   "language": "python",
   "name": "python3"
  },
  "language_info": {
   "codemirror_mode": {
    "name": "ipython",
    "version": 3
   },
   "file_extension": ".py",
   "mimetype": "text/x-python",
   "name": "python",
   "nbconvert_exporter": "python",
   "pygments_lexer": "ipython3",
   "version": "3.6.5"
  }
 },
 "nbformat": 4,
 "nbformat_minor": 2
}
