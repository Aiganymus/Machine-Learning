{
 "cells": [
  {
   "cell_type": "code",
   "execution_count": 2,
   "metadata": {},
   "outputs": [],
   "source": [
    "import numpy as np\n",
    "from numpy import linalg as la\n",
    "from numpy.linalg import inv, solve"
   ]
  },
  {
   "cell_type": "code",
   "execution_count": 5,
   "metadata": {},
   "outputs": [
    {
     "name": "stdout",
     "output_type": "stream",
     "text": [
      "Original Matrix:\n",
      " [[-2  0  0]\n",
      " [ 0  1  0]\n",
      " [ 0  0  1]]\n",
      "\n",
      "A = U*S*V_t:\n",
      " [[-2.  0.  0.]\n",
      " [ 0.  1.  0.]\n",
      " [ 0.  0.  1.]]\n",
      "Matrix U:\n",
      " [[-0.5  0.   0. ]\n",
      " [ 0.   1.   0. ]\n",
      " [ 0.   0.   1. ]]\n",
      "Matrix S:\n",
      " [[4. 0. 0.]\n",
      " [0. 1. 0.]\n",
      " [0. 0. 1.]]\n",
      "Matrix V transpose:\n",
      " [[1. 0. 0.]\n",
      " [0. 1. 0.]\n",
      " [0. 0. 1.]]\n"
     ]
    }
   ],
   "source": [
    "x = np.matrix([[-2, 0, 0], [0, 1, 0], [0, 0, 1]])\n",
    "\n",
    "def svd(x):\n",
    "    m = x.shape[0] #number of rows\n",
    "    n = x.shape[1] #number of columns\n",
    "    \n",
    "    x_t = x.transpose()\n",
    "    xt_x = np.matmul(x_t, x)\n",
    "\n",
    "    w, v = la.eig(xt_x)\n",
    "    \n",
    "    w = np.sort(w)[::-1]\n",
    "    d = np.zeros((m, n))\n",
    "    np.fill_diagonal(d, w)\n",
    "    \n",
    "    v_t = v.transpose()\n",
    "    \n",
    "    d_inv = inv(d)\n",
    "    u = np.matmul(x, np.matmul(v, d_inv))\n",
    "    \n",
    "    return u, d, v_t\n",
    "    \n",
    "u, d, v_t = svd(x)\n",
    "print('Original Matrix:\\n', x)\n",
    "print('\\nA = U*S*V_t:\\n', np.matrix.round(np.matmul(u, np.matmul(d, v_t))))\n",
    "print('Matrix U:\\n', u)\n",
    "print('Matrix S:\\n', d)\n",
    "print('Matrix V transpose:\\n', v_t)"
   ]
  }
 ],
 "metadata": {
  "kernelspec": {
   "display_name": "Python 3",
   "language": "python",
   "name": "python3"
  },
  "language_info": {
   "codemirror_mode": {
    "name": "ipython",
    "version": 3
   },
   "file_extension": ".py",
   "mimetype": "text/x-python",
   "name": "python",
   "nbconvert_exporter": "python",
   "pygments_lexer": "ipython3",
   "version": "3.6.5"
  }
 },
 "nbformat": 4,
 "nbformat_minor": 2
}
